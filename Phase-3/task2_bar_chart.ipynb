{
 "cells": [
  {
   "cell_type": "code",
   "execution_count": 138,
   "metadata": {},
   "outputs": [],
   "source": [
    "import numpy as np\n",
    "import json\n",
    "import matplotlib\n",
    "import matplotlib.pyplot as plt\n",
    "import os\n",
    "from pathlib import Path"
   ]
  },
  {
   "cell_type": "code",
   "execution_count": 148,
   "metadata": {},
   "outputs": [],
   "source": [
    "def plot_graph(path, model):\n",
    "    ppr_k = 30\n",
    "    m = 7\n",
    "    d = os.path.abspath(path+\"/task2\")\n",
    "    output_dir = os.path.join(\"outputs\", \"task2/plots\")\n",
    "    Path(output_dir).mkdir(parents=True, exist_ok=True)\n",
    "    tf_list, tfidf_list = [], []\n",
    "    files = os.listdir(d)\n",
    "    if model==\"dominant\":\n",
    "        name = \"PPR\"\n",
    "        for i in [2, 3, 4, 5, 6, 7]:\n",
    "            f_tf = os.path.join(d, \"{}_{}_\".format(ppr_k, m)+model+\"_1_{}.txt\".format(i))\n",
    "            data_tf = json.load(open(f_tf, \"r\"))\n",
    "            acc = data_tf['acc']\n",
    "            a = acc['voting'] if acc['voting']>acc['wt_scores'] else acc['wt_scores']\n",
    "            tf_list.append(np.round(a, decimals=2))\n",
    "            \n",
    "            f_idf = os.path.join(d, \"{}_{}_\".format(ppr_k, m)+model+\"_2_{}.txt\".format(i))\n",
    "            data_idf = json.load(open(f_idf, \"r\"))\n",
    "            acc = data_idf['acc']\n",
    "            a = acc['voting'] if acc['voting']>acc['wt_scores'] else acc['wt_scores']\n",
    "            tfidf_list.append(np.round(a, decimals=2))\n",
    "        labels = ['PCA', 'SVD', 'NMF', 'LDA', 'Edit-Distance', 'DTW-Distance']\n",
    "    else:\n",
    "        name = model\n",
    "        l = [i for i in files if model in i]\n",
    "        for i in [1,2 ,3, 4]:\n",
    "            f_tf = os.path.join(d, model+\"_1_{}.txt\".format(i))\n",
    "            data_tf = json.load(open(f_tf, \"r\"))\n",
    "            tf_list.append(np.round(data_tf['Accuracy'], decimals=2))\n",
    "            f_idf = os.path.join(d, model+\"_2_{}.txt\".format(i))\n",
    "            data_idf = json.load(open(f_idf, \"r\"))\n",
    "            tfidf_list.append(np.round(data_idf['Accuracy'], decimals=2))\n",
    "        labels = ['PCA', 'SVD', 'NMF', 'LDA']    \n",
    "    \n",
    "    x = np.arange(len(labels))  \n",
    "    width = 0.35  \n",
    "\n",
    "    fig, ax = plt.subplots()\n",
    "    rects1 = ax.bar(x - width/2, tf_list, width, label='TF')\n",
    "    rects2 = ax.bar(x + width/2, tfidf_list, width, label='TF-IDF')\n",
    "\n",
    "    ax.set_ylabel('Accuracy')\n",
    "    ax.set_title('Model')\n",
    "    ax.set_xticks(x)\n",
    "    ax.set_xticklabels(labels)\n",
    "    ax.legend()\n",
    "\n",
    "\n",
    "    def autolabel(rects):\n",
    "        \"\"\"Attach a text label above each bar in *rects*, displaying its height.\"\"\"\n",
    "        for rect in rects:\n",
    "            height = rect.get_height()\n",
    "            ax.annotate('{}'.format(height),\n",
    "                        xy=(rect.get_x() + rect.get_width() / 2, height),\n",
    "                        xytext=(0, 3),  # 3 points vertical offset\n",
    "                        textcoords=\"offset points\",\n",
    "                        ha='center', va='bottom')\n",
    "\n",
    "\n",
    "    autolabel(rects1)\n",
    "    autolabel(rects2)\n",
    "\n",
    "    fig.tight_layout()\n",
    "\n",
    "    plt.show()\n",
    "    fig.savefig(os.path.join(output_dir, name+\".png\"))\n",
    "    \n",
    "\n"
   ]
  },
  {
   "cell_type": "code",
   "execution_count": 149,
   "metadata": {},
   "outputs": [
    {
     "data": {
      "image/png": "[encoded data removed]",
      "text/plain": [
       "<Figure size 432x288 with 1 Axes>"
      ]
     },
     "metadata": {
      "needs_background": "light"
     },
     "output_type": "display_data"
    }
   ],
   "source": [
    "plot_graph(\"outputs\", \"knn\")"
   ]
  },
  {
   "cell_type": "code",
   "execution_count": null,
   "metadata": {},
   "outputs": [],
   "source": []
  }
 ],
 "metadata": {
  "kernelspec": {
   "display_name": "Python 3",
   "language": "python",
   "name": "python3"
  },
  "language_info": {
   "codemirror_mode": {
    "name": "ipython",
    "version": 3
   },
   "file_extension": ".py",
   "mimetype": "text/x-python",
   "name": "python",
   "nbconvert_exporter": "python",
   "pygments_lexer": "ipython3",
   "version": "3.6.9"
  }
 },
 "nbformat": 4,
 "nbformat_minor": 4
}
