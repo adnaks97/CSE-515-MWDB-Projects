{
 "cells": [
  {
   "cell_type": "code",
   "execution_count": 1,
   "metadata": {},
   "outputs": [],
   "source": [
    "import tkinter as tk\n",
    "from tkinter import ttk"
   ]
  },
  {
   "cell_type": "code",
   "execution_count": 2,
   "metadata": {},
   "outputs": [],
   "source": [
    "class Display(object):\n",
    "    def submit_query(self):\n",
    "        self.query_id = int(self.query_entry.get())\n",
    "        self.results_cnt = int(self.param_entry.get())\n",
    "        self.window.destroy()\n",
    "        \n",
    "    def create_first(self):\n",
    "        self.window = tk.Tk()\n",
    "        frame1 = tk.Frame(master=self.window, width=100)\n",
    "        query_label = tk.Label(master=frame1, width=50, text=\"Enter query file id\")\n",
    "        self.query_entry = tk.Entry(master=frame1, width=20)\n",
    "        param_label = tk.Label(master=frame1, width=50, text=\"Enter number of files to retrieve\")\n",
    "        self.param_entry = tk.Entry(master=frame1, width=20)\n",
    "        submit = tk.Button(master=frame1, width=10, text=\"submit\", command=self.submit_query)\n",
    "        query_label.pack()\n",
    "        self.query_entry.pack()\n",
    "        param_label.pack()\n",
    "        self.param_entry.pack()\n",
    "        submit.pack()\n",
    "        frame1.pack(fill=tk.BOTH, side=tk.LEFT, expand=True)\n",
    "        self.window.mainloop()\n",
    "    \n",
    "    def submit_feedback(self):\n",
    "        self.relevant, self.irrelevant = [], []\n",
    "        for fr in self.frames:\n",
    "            if fr['var'].get() == 1:\n",
    "                self.relevant.append(fr['name']['text'])\n",
    "            elif fr['var'].get() == 0:\n",
    "                self.irrelevant.append(fr['name']['text'])\n",
    "        self.window.destroy()\n",
    "    \n",
    "    def result_and_feedback(self, query_id, results):\n",
    "        self.window = tk.Tk()\n",
    "        query_id = tk.Label(master=self.window, width=60, text=\"Results for query id \" + query_id)\n",
    "        query_id.pack()\n",
    "        self.frames = []\n",
    "        for i in range(len(results)):\n",
    "            items = {}\n",
    "            items['frame'] = tk.Frame(master=self.window, width=100, height=100)\n",
    "            items['name'] = tk.Label(master=items['frame'], width=60, text=results[i])\n",
    "            items['var'] = tk.IntVar()\n",
    "            c = ttk.Radiobutton(items['frame'], text='Correct', variable=items['var'], value=1)\n",
    "            ic = ttk.Radiobutton(items['frame'], text='Incorrect', variable=items['var'], value=0)\n",
    "            dk = ttk.Radiobutton(items['frame'], text=\"Don't know\", variable=items['var'], value=-1)\n",
    "            items['name'].pack(fill=tk.BOTH, side=tk.LEFT)\n",
    "            c.pack(fill=tk.BOTH, side=tk.LEFT)\n",
    "            ic.pack(fill=tk.BOTH, side=tk.LEFT)\n",
    "            dk.pack(fill=tk.BOTH, side=tk.LEFT)\n",
    "            items['frame'].pack(pady=7, padx=10)\n",
    "            self.frames.append(items)\n",
    "        submit = tk.Button(master=self.window, width=10, text=\"submit\", command=self.submit_feedback)\n",
    "        submit.pack()\n",
    "        self.window.mainloop()"
   ]
  },
  {
   "cell_type": "code",
   "execution_count": 3,
   "metadata": {},
   "outputs": [],
   "source": [
    "disp = Display()"
   ]
  },
  {
   "cell_type": "code",
   "execution_count": 4,
   "metadata": {},
   "outputs": [],
   "source": [
    "disp.create_first()"
   ]
  },
  {
   "cell_type": "code",
   "execution_count": 5,
   "metadata": {},
   "outputs": [],
   "source": [
    "disp.result_and_feedback('005', ['001','002'])"
   ]
  },
  {
   "cell_type": "code",
   "execution_count": 6,
   "metadata": {},
   "outputs": [
    {
     "data": {
      "text/plain": [
       "(['001'], ['002'])"
      ]
     },
     "execution_count": 6,
     "metadata": {},
     "output_type": "execute_result"
    }
   ],
   "source": [
    "disp.relevant, disp.irrelevant"
   ]
  },
  {
   "cell_type": "code",
   "execution_count": null,
   "metadata": {},
   "outputs": [],
   "source": []
  }
 ],
 "metadata": {
  "kernelspec": {
   "display_name": "Python 3",
   "language": "python",
   "name": "python3"
  },
  "language_info": {
   "codemirror_mode": {
    "name": "ipython",
    "version": 3
   },
   "file_extension": ".py",
   "mimetype": "text/x-python",
   "name": "python",
   "nbconvert_exporter": "python",
   "pygments_lexer": "ipython3",
   "version": "3.7.9"
  }
 },
 "nbformat": 4,
 "nbformat_minor": 2
}