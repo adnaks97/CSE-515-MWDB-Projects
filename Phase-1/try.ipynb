{
 "cells": [
  {
   "cell_type": "code",
   "execution_count": 12,
   "metadata": {
    "collapsed": true
   },
   "outputs": [
    {
     "name": "stdout",
     "output_type": "stream",
     "text": [
      "\n",
      "\n",
      "61 cosine\n",
      "\n",
      "\n",
      "& 46 & 0.65 & 17 & 0.94 & 51 & 0.94  \\\\ \\cline{2-7}\n",
      "& 30 & 0.62 & 27 & 0.94 & 30 & 0.94  \\\\ \\cline{2-7}\n",
      "& 51 & 0.6 & 53 & 0.94 & 57 & 0.93  \\\\ \\cline{2-7}\n",
      "& 27 & 0.59 & 30 & 0.93 & 45 & 0.92  \\\\ \\cline{2-7}\n",
      "& 55 & 0.59 & 48 & 0.93 & 53 & 0.92  \\\\ \\cline{2-7}\n",
      "& 45 & 0.58 & 57 & 0.92 & 7 & 0.92  \\\\ \\cline{2-7}\n",
      "& 48 & 0.55 & 56 & 0.92 & 5 & 0.91  \\\\ \\cline{2-7}\n",
      "& 58 & 0.54 & 55 & 0.92 & 27 & 0.91  \\\\ \\cline{2-7}\n",
      "& 43 & 0.54 & 24 & 0.92 & 17 & 0.9  \\\\ \\cline{2-7}\n",
      "& 53 & 0.53 & 50 & 0.92 & 37 & 0.9  \\\\ \\cline{2-7}\n",
      "\n",
      "\n",
      "62 cosine\n",
      "\n",
      "\n",
      "& 46 & 0.66 & 48 & 0.96 & 50 & 0.93  \\\\ \\cline{2-7}\n",
      "& 55 & 0.63 & 50 & 0.96 & 48 & 0.93  \\\\ \\cline{2-7}\n",
      "& 50 & 0.62 & 56 & 0.95 & 46 & 0.91  \\\\ \\cline{2-7}\n",
      "& 29 & 0.62 & 46 & 0.94 & 56 & 0.9  \\\\ \\cline{2-7}\n",
      "& 48 & 0.61 & 55 & 0.94 & 22 & 0.9  \\\\ \\cline{2-7}\n",
      "& 26 & 0.61 & 17 & 0.93 & 49 & 0.9  \\\\ \\cline{2-7}\n",
      "& 28 & 0.6 & 22 & 0.93 & 32 & 0.9  \\\\ \\cline{2-7}\n",
      "& 59 & 0.6 & 25 & 0.93 & 25 & 0.9  \\\\ \\cline{2-7}\n",
      "& 27 & 0.6 & 29 & 0.92 & 27 & 0.89  \\\\ \\cline{2-7}\n",
      "& 58 & 0.59 & 24 & 0.92 & 55 & 0.89  \\\\ \\cline{2-7}\n",
      "\n",
      "\n",
      "63 cosine\n",
      "\n",
      "\n",
      "& 45 & 0.55 & 53 & 0.94 & 7 & 0.93  \\\\ \\cline{2-7}\n",
      "& 46 & 0.44 & 27 & 0.94 & 41 & 0.93  \\\\ \\cline{2-7}\n",
      "& 27 & 0.43 & 45 & 0.94 & 48 & 0.9  \\\\ \\cline{2-7}\n",
      "& 57 & 0.41 & 50 & 0.93 & 5 & 0.9  \\\\ \\cline{2-7}\n",
      "& 20 & 0.41 & 20 & 0.93 & 37 & 0.89  \\\\ \\cline{2-7}\n",
      "& 51 & 0.4 & 17 & 0.93 & 53 & 0.89  \\\\ \\cline{2-7}\n",
      "& 30 & 0.4 & 23 & 0.92 & 30 & 0.88  \\\\ \\cline{2-7}\n",
      "& 55 & 0.4 & 48 & 0.92 & 27 & 0.87  \\\\ \\cline{2-7}\n",
      "& 15 & 0.4 & 22 & 0.92 & 4 & 0.87  \\\\ \\cline{2-7}\n",
      "& 17 & 0.38 & 57 & 0.91 & 45 & 0.87  \\\\ \\cline{2-7}\n",
      "\n",
      "\n",
      "64 cosine\n",
      "\n",
      "\n",
      "& 45 & 0.56 & 27 & 0.96 & 53 & 0.91  \\\\ \\cline{2-7}\n",
      "& 46 & 0.45 & 45 & 0.96 & 7 & 0.91  \\\\ \\cline{2-7}\n",
      "& 27 & 0.43 & 53 & 0.96 & 45 & 0.9  \\\\ \\cline{2-7}\n",
      "& 57 & 0.42 & 17 & 0.94 & 27 & 0.9  \\\\ \\cline{2-7}\n",
      "& 30 & 0.41 & 50 & 0.93 & 4 & 0.88  \\\\ \\cline{2-7}\n",
      "& 51 & 0.41 & 48 & 0.93 & 35 & 0.88  \\\\ \\cline{2-7}\n",
      "& 15 & 0.41 & 30 & 0.92 & 5 & 0.88  \\\\ \\cline{2-7}\n",
      "& 20 & 0.39 & 28 & 0.92 & 13 & 0.88  \\\\ \\cline{2-7}\n",
      "& 55 & 0.39 & 57 & 0.91 & 30 & 0.87  \\\\ \\cline{2-7}\n",
      "& 59 & 0.39 & 58 & 0.91 & 51 & 0.87  \\\\ \\cline{2-7}\n",
      "\n",
      "\n",
      "65 cosine\n",
      "\n",
      "\n",
      "& 45 & 0.55 & 27 & 0.95 & 7 & 0.93  \\\\ \\cline{2-7}\n",
      "& 46 & 0.45 & 30 & 0.93 & 41 & 0.92  \\\\ \\cline{2-7}\n",
      "& 27 & 0.44 & 56 & 0.93 & 5 & 0.9  \\\\ \\cline{2-7}\n",
      "& 57 & 0.42 & 24 & 0.93 & 34 & 0.9  \\\\ \\cline{2-7}\n",
      "& 51 & 0.42 & 57 & 0.93 & 30 & 0.9  \\\\ \\cline{2-7}\n",
      "& 30 & 0.42 & 48 & 0.92 & 13 & 0.9  \\\\ \\cline{2-7}\n",
      "& 55 & 0.41 & 15 & 0.92 & 4 & 0.89  \\\\ \\cline{2-7}\n",
      "& 15 & 0.41 & 6 & 0.92 & 51 & 0.89  \\\\ \\cline{2-7}\n",
      "& 20 & 0.4 & 46 & 0.92 & 37 & 0.88  \\\\ \\cline{2-7}\n",
      "& 59 & 0.4 & 53 & 0.92 & 27 & 0.88  \\\\ \\cline{2-7}\n",
      "\n",
      "\n",
      "66 cosine\n",
      "\n",
      "\n",
      "& 45 & 0.55 & 27 & 0.95 & 7 & 0.94  \\\\ \\cline{2-7}\n",
      "& 46 & 0.45 & 53 & 0.94 & 53 & 0.93  \\\\ \\cline{2-7}\n",
      "& 27 & 0.44 & 45 & 0.93 & 30 & 0.93  \\\\ \\cline{2-7}\n",
      "& 57 & 0.41 & 48 & 0.93 & 51 & 0.92  \\\\ \\cline{2-7}\n",
      "& 51 & 0.41 & 17 & 0.92 & 45 & 0.92  \\\\ \\cline{2-7}\n",
      "& 30 & 0.41 & 30 & 0.92 & 41 & 0.92  \\\\ \\cline{2-7}\n",
      "& 15 & 0.41 & 55 & 0.92 & 27 & 0.91  \\\\ \\cline{2-7}\n",
      "& 20 & 0.4 & 50 & 0.91 & 48 & 0.91  \\\\ \\cline{2-7}\n",
      "& 55 & 0.4 & 23 & 0.91 & 17 & 0.9  \\\\ \\cline{2-7}\n",
      "& 59 & 0.39 & 56 & 0.91 & 5 & 0.9  \\\\ \\cline{2-7}\n",
      "\n",
      "\n",
      "61 euclidean\n",
      "\n",
      "\n",
      "& 9 & 1.21 & 9 & 1.08 & 9 & 0.7  \\\\ \\cline{2-7}\n",
      "& 65 & 1.56 & 16 & 1.49 & 64 & 0.96  \\\\ \\cline{2-7}\n",
      "& 42 & 1.56 & 47 & 1.53 & 65 & 0.96  \\\\ \\cline{2-7}\n",
      "& 40 & 1.6 & 3 & 1.54 & 63 & 0.96  \\\\ \\cline{2-7}\n",
      "& 66 & 1.62 & 13 & 1.55 & 16 & 1.03  \\\\ \\cline{2-7}\n",
      "& 63 & 1.62 & 44 & 1.56 & 66 & 1.04  \\\\ \\cline{2-7}\n",
      "& 36 & 1.62 & 63 & 1.57 & 35 & 1.07  \\\\ \\cline{2-7}\n",
      "& 64 & 1.64 & 7 & 1.57 & 40 & 1.09  \\\\ \\cline{2-7}\n",
      "& 4 & 1.65 & 34 & 1.57 & 47 & 1.09  \\\\ \\cline{2-7}\n",
      "& 1 & 1.66 & 40 & 1.58 & 34 & 1.13  \\\\ \\cline{2-7}\n",
      "\n",
      "\n",
      "62 euclidean\n",
      "\n",
      "\n",
      "& 33 & 1.81 & 7 & 1.7 & 41 & 1.54  \\\\ \\cline{2-7}\n",
      "& 42 & 1.82 & 41 & 1.71 & 5 & 1.55  \\\\ \\cline{2-7}\n",
      "& 51 & 1.85 & 16 & 1.71 & 37 & 1.55  \\\\ \\cline{2-7}\n",
      "& 65 & 1.85 & 47 & 1.72 & 35 & 1.56  \\\\ \\cline{2-7}\n",
      "& 37 & 1.86 & 5 & 1.75 & 18 & 1.59  \\\\ \\cline{2-7}\n",
      "& 61 & 1.87 & 37 & 1.76 & 7 & 1.59  \\\\ \\cline{2-7}\n",
      "& 66 & 1.89 & 66 & 1.76 & 43 & 1.63  \\\\ \\cline{2-7}\n",
      "& 18 & 1.91 & 13 & 1.76 & 10 & 1.66  \\\\ \\cline{2-7}\n",
      "& 11 & 1.91 & 63 & 1.77 & 21 & 1.67  \\\\ \\cline{2-7}\n",
      "& 63 & 1.91 & 3 & 1.77 & 39 & 1.67  \\\\ \\cline{2-7}\n",
      "\n",
      "\n",
      "63 euclidean\n",
      "\n",
      "\n",
      "& 66 & 0.62 & 66 & 1.08 & 65 & 0.0  \\\\ \\cline{2-7}\n",
      "& 64 & 0.77 & 16 & 1.19 & 64 & 0.0  \\\\ \\cline{2-7}\n",
      "& 65 & 0.77 & 13 & 1.21 & 66 & 0.52  \\\\ \\cline{2-7}\n",
      "& 44 & 1.33 & 7 & 1.25 & 35 & 0.6  \\\\ \\cline{2-7}\n",
      "& 36 & 1.46 & 3 & 1.27 & 16 & 0.66  \\\\ \\cline{2-7}\n",
      "& 38 & 1.48 & 47 & 1.28 & 13 & 0.79  \\\\ \\cline{2-7}\n",
      "& 13 & 1.49 & 40 & 1.3 & 47 & 0.82  \\\\ \\cline{2-7}\n",
      "& 11 & 1.5 & 64 & 1.3 & 40 & 0.84  \\\\ \\cline{2-7}\n",
      "& 40 & 1.52 & 44 & 1.32 & 44 & 0.85  \\\\ \\cline{2-7}\n",
      "& 1 & 1.55 & 34 & 1.33 & 18 & 0.87  \\\\ \\cline{2-7}\n",
      "\n",
      "\n",
      "64 euclidean\n",
      "\n",
      "\n",
      "& 66 & 0.62 & 66 & 1.02 & 65 & 0.0  \\\\ \\cline{2-7}\n",
      "& 63 & 0.77 & 16 & 1.19 & 63 & 0.0  \\\\ \\cline{2-7}\n",
      "& 65 & 0.77 & 13 & 1.21 & 66 & 0.52  \\\\ \\cline{2-7}\n",
      "& 44 & 1.3 & 7 & 1.24 & 35 & 0.6  \\\\ \\cline{2-7}\n",
      "& 36 & 1.46 & 47 & 1.25 & 16 & 0.66  \\\\ \\cline{2-7}\n",
      "& 38 & 1.46 & 63 & 1.3 & 13 & 0.79  \\\\ \\cline{2-7}\n",
      "& 13 & 1.49 & 44 & 1.31 & 47 & 0.82  \\\\ \\cline{2-7}\n",
      "& 11 & 1.51 & 3 & 1.32 & 40 & 0.84  \\\\ \\cline{2-7}\n",
      "& 40 & 1.54 & 5 & 1.32 & 44 & 0.85  \\\\ \\cline{2-7}\n",
      "& 1 & 1.55 & 41 & 1.32 & 18 & 0.87  \\\\ \\cline{2-7}\n",
      "\n",
      "\n",
      "65 euclidean\n",
      "\n",
      "\n",
      "& 66 & 0.65 & 66 & 1.15 & 63 & 0.0  \\\\ \\cline{2-7}\n",
      "& 63 & 0.77 & 16 & 1.33 & 64 & 0.0  \\\\ \\cline{2-7}\n",
      "& 64 & 0.77 & 13 & 1.35 & 66 & 0.52  \\\\ \\cline{2-7}\n",
      "& 44 & 1.26 & 63 & 1.37 & 35 & 0.6  \\\\ \\cline{2-7}\n",
      "& 36 & 1.39 & 64 & 1.37 & 16 & 0.66  \\\\ \\cline{2-7}\n",
      "& 11 & 1.41 & 7 & 1.4 & 13 & 0.79  \\\\ \\cline{2-7}\n",
      "& 38 & 1.43 & 47 & 1.41 & 47 & 0.82  \\\\ \\cline{2-7}\n",
      "& 1 & 1.44 & 44 & 1.43 & 40 & 0.84  \\\\ \\cline{2-7}\n",
      "& 39 & 1.48 & 5 & 1.43 & 44 & 0.85  \\\\ \\cline{2-7}\n",
      "& 40 & 1.48 & 3 & 1.44 & 18 & 0.87  \\\\ \\cline{2-7}\n",
      "\n",
      "\n",
      "66 euclidean\n",
      "\n",
      "\n",
      "& 63 & 0.62 & 64 & 1.02 & 65 & 0.52  \\\\ \\cline{2-7}\n",
      "& 64 & 0.62 & 63 & 1.08 & 63 & 0.52  \\\\ \\cline{2-7}\n",
      "& 65 & 0.65 & 65 & 1.15 & 64 & 0.52  \\\\ \\cline{2-7}\n",
      "& 44 & 1.29 & 16 & 1.19 & 35 & 0.72  \\\\ \\cline{2-7}\n",
      "& 36 & 1.44 & 13 & 1.21 & 16 & 0.75  \\\\ \\cline{2-7}\n",
      "& 38 & 1.45 & 7 & 1.25 & 13 & 0.87  \\\\ \\cline{2-7}\n",
      "& 11 & 1.47 & 47 & 1.27 & 47 & 0.89  \\\\ \\cline{2-7}\n",
      "& 13 & 1.49 & 44 & 1.3 & 40 & 0.9  \\\\ \\cline{2-7}\n",
      "& 1 & 1.51 & 10 & 1.31 & 44 & 0.92  \\\\ \\cline{2-7}\n",
      "& 40 & 1.52 & 3 & 1.32 & 10 & 0.94  \\\\ \\cline{2-7}\n"
     ]
    }
   ],
   "source": [
    "for m in ['cosine','euclidean']:\n",
    "    for f in [61,62,63,64,65,66]:\n",
    "        print(\"\\n\")\n",
    "        print(f,m)\n",
    "        print(\"\\n\")\n",
    "        f1 = open(\"SampleOutputs/task4/{}_{}_{}_vector_similarity_results.txt\".format(f,1,m),\"r\")\n",
    "        f2 = open(\"SampleOutputs/task4/{}_{}_{}_vector_similarity_results.txt\".format(f,2,m),\"r\")\n",
    "        f3 = open(\"SampleOutputs/task4/{}_{}_{}_vector_similarity_results.txt\".format(f,3,m),\"r\")\n",
    "        d1 = [x.split(\"\\n\")[0] for x in f1.readlines()[1:]]\n",
    "        d2 = [x.split(\"\\n\")[0] for x in f2.readlines()[1:]]\n",
    "        d3 = [x.split(\"\\n\")[0] for x in f3.readlines()[1:]]\n",
    "        for l in zip(d1,d2,d3):\n",
    "            print(\"\".join(l)+\" \\\\\\\\ \\\\cline{2-7}\")"
   ]
  },
  {
   "cell_type": "code",
   "execution_count": 1,
   "outputs": [],
   "source": [
    "import matplotlib.pyplot as plt"
   ],
   "metadata": {
    "collapsed": false,
    "pycharm": {
     "name": "#%%\n"
    }
   }
  },
  {
   "cell_type": "code",
   "execution_count": 2,
   "outputs": [],
   "source": [
    "import pandas as pd"
   ],
   "metadata": {
    "collapsed": false,
    "pycharm": {
     "name": "#%%\n"
    }
   }
  },
  {
   "cell_type": "code",
   "execution_count": 3,
   "outputs": [],
   "source": [
    "d = pd.read_csv(\"Z/1.csv\", header=None)"
   ],
   "metadata": {
    "collapsed": false,
    "pycharm": {
     "name": "#%%\n"
    }
   }
  },
  {
   "cell_type": "code",
   "execution_count": 10,
   "outputs": [
    {
     "data": {
      "text/plain": "<Figure size 720x720 with 1 Axes>",
      "image/png": "[encoded data removed]"
     },
     "metadata": {
      "needs_background": "light"
     },
     "output_type": "display_data"
    }
   ],
   "source": [
    "plt.figure(figsize=(10,10))\n",
    "d.iloc[19,:].plot()\n",
    "plt.savefig(\"4.png\")"
   ],
   "metadata": {
    "collapsed": false,
    "pycharm": {
     "name": "#%%\n"
    }
   }
  },
  {
   "cell_type": "code",
   "execution_count": null,
   "outputs": [],
   "source": [],
   "metadata": {
    "collapsed": false,
    "pycharm": {
     "name": "#%%\n"
    }
   }
  }
 ],
 "metadata": {
  "kernelspec": {
   "display_name": "Python 3",
   "language": "python",
   "name": "python3"
  },
  "language_info": {
   "codemirror_mode": {
    "name": "ipython",
    "version": 2
   },
   "file_extension": ".py",
   "mimetype": "text/x-python",
   "name": "python",
   "nbconvert_exporter": "python",
   "pygments_lexer": "ipython2",
   "version": "2.7.6"
  }
 },
 "nbformat": 4,
 "nbformat_minor": 0
}